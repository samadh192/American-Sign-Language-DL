{
  "nbformat": 4,
  "nbformat_minor": 0,
  "metadata": {
    "colab": {
      "name": "AmericanSignLanguage.ipynb",
      "version": "0.3.2",
      "provenance": []
    },
    "kernelspec": {
      "name": "python3",
      "display_name": "Python 3"
    }
  },
  "cells": [
    {
      "cell_type": "code",
      "metadata": {
        "id": "BEGyBonlM8Mj",
        "colab_type": "code",
        "outputId": "0700db1d-de22-4444-ef4b-6c5c2f69f738",
        "colab": {
          "base_uri": "https://localhost:8080/",
          "height": 122
        }
      },
      "source": [
        "# Run this cell to mount your Google Drive.\n",
        "from google.colab import drive\n",
        "drive.mount('/content/drive')"
      ],
      "execution_count": 0,
      "outputs": [
        {
          "output_type": "stream",
          "text": [
            "Go to this URL in a browser: https://accounts.google.com/o/oauth2/auth?client_id=947318989803-6bn6qk8qdgf4n4g3pfee6491hc0brc4i.apps.googleusercontent.com&redirect_uri=urn%3Aietf%3Awg%3Aoauth%3A2.0%3Aoob&scope=email%20https%3A%2F%2Fwww.googleapis.com%2Fauth%2Fdocs.test%20https%3A%2F%2Fwww.googleapis.com%2Fauth%2Fdrive%20https%3A%2F%2Fwww.googleapis.com%2Fauth%2Fdrive.photos.readonly%20https%3A%2F%2Fwww.googleapis.com%2Fauth%2Fpeopleapi.readonly&response_type=code\n",
            "\n",
            "Enter your authorization code:\n",
            "··········\n",
            "Mounted at /content/drive\n"
          ],
          "name": "stdout"
        }
      ]
    },
    {
      "cell_type": "code",
      "metadata": {
        "id": "dBnftXzdLosy",
        "colab_type": "code",
        "colab": {}
      },
      "source": [
        "import csv\n",
        "import numpy as np\n",
        "import tensorflow as tf\n",
        "from tensorflow.keras.preprocessing.image import ImageDataGenerator\n",
        "from google.colab import files"
      ],
      "execution_count": 0,
      "outputs": []
    },
    {
      "cell_type": "code",
      "metadata": {
        "id": "gB0DANUuXafu",
        "colab_type": "code",
        "colab": {}
      },
      "source": [
        "class myCallback(tf.keras.callbacks.Callback):\n",
        "  def on_epoch_end(self, epoch, logs={}):\n",
        "    if(logs.get('val_acc')>0.98):\n",
        "      print(\"\\nReached 98% accuracy so cancelling training!\")\n",
        "      self.model.stop_training = True"
      ],
      "execution_count": 0,
      "outputs": []
    },
    {
      "cell_type": "code",
      "metadata": {
        "id": "XEguMVYLMtog",
        "colab_type": "code",
        "outputId": "4b7c274c-cc0c-4a9d-95c3-aa1f1f875674",
        "colab": {
          "base_uri": "https://localhost:8080/",
          "height": 85
        }
      },
      "source": [
        "def get_data(filename):\n",
        "    with open(filename) as training_file:\n",
        "        csv_reader = csv.reader(training_file, delimiter=',')\n",
        "        first_line = True\n",
        "        temp_images = []\n",
        "        temp_labels = []\n",
        "        for row in csv_reader:\n",
        "            if first_line:\n",
        "                # print(\"Ignoring first line\")\n",
        "                first_line = False\n",
        "            else:\n",
        "                temp_labels.append(row[0])\n",
        "                image_data = row[1:785]\n",
        "                image_data_as_array = np.array_split(image_data, 28)\n",
        "                temp_images.append(image_data_as_array)\n",
        "        images = np.array(temp_images).astype('float')\n",
        "        labels = np.array(temp_labels).astype('float')\n",
        "    return images, labels\n",
        "\n",
        "\n",
        "training_images, training_labels = get_data('/content/drive/My Drive/Models/sign_mnist_train.csv')\n",
        "testing_images, testing_labels = get_data('/content/drive/My Drive/Models/sign_mnist_test.csv')\n",
        "\n",
        "print(training_images.shape)\n",
        "print(training_labels.shape)\n",
        "print(testing_images.shape)\n",
        "print(testing_labels.shape)"
      ],
      "execution_count": 0,
      "outputs": [
        {
          "output_type": "stream",
          "text": [
            "(27455, 28, 28)\n",
            "(27455,)\n",
            "(7172, 28, 28)\n",
            "(7172,)\n"
          ],
          "name": "stdout"
        }
      ]
    },
    {
      "cell_type": "code",
      "metadata": {
        "id": "d7FGxsPzMyHI",
        "colab_type": "code",
        "outputId": "8730fbf0-9b72-42b9-f38c-4770913d8577",
        "colab": {
          "base_uri": "https://localhost:8080/",
          "height": 51
        }
      },
      "source": [
        "training_images = np.expand_dims(training_images, axis=3)\n",
        "testing_images = np.expand_dims(testing_images, axis=3)\n",
        "\n",
        "train_datagen = ImageDataGenerator(\n",
        "    rescale=1. / 255,\n",
        "    rotation_range=40,\n",
        "    width_shift_range=0.2,\n",
        "    height_shift_range=0.2,\n",
        "    shear_range=0.2,\n",
        "    zoom_range=0.2,\n",
        "    horizontal_flip=True,\n",
        "    fill_mode='nearest')\n",
        "\n",
        "validation_datagen = ImageDataGenerator(\n",
        "    rescale=1. / 255)\n",
        "\n",
        "print(training_images.shape)\n",
        "print(testing_images.shape)"
      ],
      "execution_count": 0,
      "outputs": [
        {
          "output_type": "stream",
          "text": [
            "(27455, 28, 28, 1)\n",
            "(7172, 28, 28, 1)\n"
          ],
          "name": "stdout"
        }
      ]
    },
    {
      "cell_type": "code",
      "metadata": {
        "id": "Fbv7Ek2ZNmWU",
        "colab_type": "code",
        "outputId": "727b62da-3822-41ec-d388-fcb63d31fbe5",
        "colab": {
          "base_uri": "https://localhost:8080/",
          "height": 2066
        }
      },
      "source": [
        "model = tf.keras.models.Sequential([\n",
        "    tf.keras.layers.Conv2D(64, (3, 3), activation='relu', input_shape=(28, 28, 1)),\n",
        "    tf.keras.layers.Conv2D(64, (3, 3), activation='relu'),\n",
        "    tf.keras.layers.MaxPooling2D(2, 2),\n",
        "    tf.keras.layers.Dropout(0.25),\n",
        "    tf.keras.layers.Conv2D(64, (3, 3), activation='relu'),\n",
        "    tf.keras.layers.Conv2D(64, (3, 3), activation='relu'),\n",
        "    tf.keras.layers.MaxPooling2D(2, 2),\n",
        "    tf.keras.layers.Dropout(0.25),\n",
        "    tf.keras.layers.Flatten(),\n",
        "    tf.keras.layers.Dense(128, activation=tf.nn.relu),\n",
        "    tf.keras.layers.Dropout(0.5),\n",
        "    tf.keras.layers.Dense(128, activation=tf.nn.relu),\n",
        "    tf.keras.layers.Dropout(0.5),\n",
        "    tf.keras.layers.Dense(26, activation=tf.nn.softmax)])\n",
        "\n",
        "model.compile(optimizer = tf.train.AdamOptimizer(),\n",
        "              loss = 'sparse_categorical_crossentropy',\n",
        "              metrics=['accuracy'])\n",
        "batch_size=256\n",
        "history = model.fit_generator(train_datagen.flow(training_images, training_labels, batch_size),\n",
        "                              steps_per_epoch=len(training_images) / batch_size,\n",
        "                              epochs=100,\n",
        "                              validation_data=validation_datagen.flow(testing_images, testing_labels,batch_size),\n",
        "                              validation_steps=len(testing_images) / batch_size,\n",
        "                              callbacks=[myCallback()])\n",
        "\n",
        "model.evaluate(testing_images, testing_labels)"
      ],
      "execution_count": 0,
      "outputs": [
        {
          "output_type": "stream",
          "text": [
            "Epoch 1/100\n",
            "108/107 [==============================] - 142s 1s/step - loss: 3.2226 - acc: 0.0440 - val_loss: 3.3136 - val_acc: 0.0418\n",
            "Epoch 2/100\n",
            "108/107 [==============================] - 140s 1s/step - loss: 3.1004 - acc: 0.0761 - val_loss: 3.0215 - val_acc: 0.0763\n",
            "Epoch 3/100\n",
            "108/107 [==============================] - 140s 1s/step - loss: 2.8279 - acc: 0.1184 - val_loss: 2.4350 - val_acc: 0.2098\n",
            "Epoch 4/100\n",
            "108/107 [==============================] - 141s 1s/step - loss: 2.5024 - acc: 0.1921 - val_loss: 2.0128 - val_acc: 0.3199\n",
            "Epoch 5/100\n",
            "108/107 [==============================] - 141s 1s/step - loss: 2.1868 - acc: 0.2696 - val_loss: 1.6667 - val_acc: 0.4115\n",
            "Epoch 6/100\n",
            "108/107 [==============================] - 140s 1s/step - loss: 1.9711 - acc: 0.3360 - val_loss: 1.4159 - val_acc: 0.5167\n",
            "Epoch 7/100\n",
            "108/107 [==============================] - 140s 1s/step - loss: 1.7886 - acc: 0.3897 - val_loss: 1.1288 - val_acc: 0.6210\n",
            "Epoch 8/100\n",
            "108/107 [==============================] - 141s 1s/step - loss: 1.6332 - acc: 0.4404 - val_loss: 1.0962 - val_acc: 0.5841\n",
            "Epoch 9/100\n",
            "108/107 [==============================] - 141s 1s/step - loss: 1.5179 - acc: 0.4758 - val_loss: 0.9717 - val_acc: 0.6456\n",
            "Epoch 10/100\n",
            "108/107 [==============================] - 141s 1s/step - loss: 1.4101 - acc: 0.5105 - val_loss: 0.8387 - val_acc: 0.6806\n",
            "Epoch 11/100\n",
            "108/107 [==============================] - 140s 1s/step - loss: 1.3147 - acc: 0.5415 - val_loss: 0.7665 - val_acc: 0.6937\n",
            "Epoch 12/100\n",
            "108/107 [==============================] - 140s 1s/step - loss: 1.2495 - acc: 0.5624 - val_loss: 0.7162 - val_acc: 0.7344\n",
            "Epoch 13/100\n",
            "108/107 [==============================] - 140s 1s/step - loss: 1.1725 - acc: 0.5879 - val_loss: 0.6421 - val_acc: 0.7416\n",
            "Epoch 14/100\n",
            "108/107 [==============================] - 140s 1s/step - loss: 1.1071 - acc: 0.6126 - val_loss: 0.6339 - val_acc: 0.7729\n",
            "Epoch 15/100\n",
            "108/107 [==============================] - 139s 1s/step - loss: 1.0704 - acc: 0.6227 - val_loss: 0.5814 - val_acc: 0.7955\n",
            "Epoch 16/100\n",
            "108/107 [==============================] - 139s 1s/step - loss: 1.0235 - acc: 0.6359 - val_loss: 0.4887 - val_acc: 0.8253\n",
            "Epoch 17/100\n",
            "108/107 [==============================] - 138s 1s/step - loss: 0.9905 - acc: 0.6520 - val_loss: 0.4965 - val_acc: 0.8208\n",
            "Epoch 18/100\n",
            "108/107 [==============================] - 136s 1s/step - loss: 0.9416 - acc: 0.6648 - val_loss: 0.4796 - val_acc: 0.8331\n",
            "Epoch 19/100\n",
            "108/107 [==============================] - 132s 1s/step - loss: 0.9143 - acc: 0.6802 - val_loss: 0.4127 - val_acc: 0.8463\n",
            "Epoch 20/100\n",
            "108/107 [==============================] - 131s 1s/step - loss: 0.8792 - acc: 0.6927 - val_loss: 0.4442 - val_acc: 0.8338\n",
            "Epoch 21/100\n",
            "108/107 [==============================] - 133s 1s/step - loss: 0.8483 - acc: 0.7030 - val_loss: 0.4046 - val_acc: 0.8579\n",
            "Epoch 22/100\n",
            "108/107 [==============================] - 133s 1s/step - loss: 0.8138 - acc: 0.7124 - val_loss: 0.3851 - val_acc: 0.8614\n",
            "Epoch 23/100\n",
            "108/107 [==============================] - 132s 1s/step - loss: 0.8074 - acc: 0.7195 - val_loss: 0.3245 - val_acc: 0.8893\n",
            "Epoch 24/100\n",
            "108/107 [==============================] - 133s 1s/step - loss: 0.7806 - acc: 0.7296 - val_loss: 0.3780 - val_acc: 0.8569\n",
            "Epoch 25/100\n",
            "108/107 [==============================] - 133s 1s/step - loss: 0.7611 - acc: 0.7356 - val_loss: 0.3243 - val_acc: 0.8844\n",
            "Epoch 26/100\n",
            "108/107 [==============================] - 132s 1s/step - loss: 0.7385 - acc: 0.7439 - val_loss: 0.3087 - val_acc: 0.8857\n",
            "Epoch 27/100\n",
            "108/107 [==============================] - 133s 1s/step - loss: 0.7048 - acc: 0.7563 - val_loss: 0.3074 - val_acc: 0.9049\n",
            "Epoch 28/100\n",
            "108/107 [==============================] - 136s 1s/step - loss: 0.7088 - acc: 0.7585 - val_loss: 0.2795 - val_acc: 0.9067\n",
            "Epoch 29/100\n",
            "108/107 [==============================] - 138s 1s/step - loss: 0.7038 - acc: 0.7557 - val_loss: 0.2599 - val_acc: 0.9130\n",
            "Epoch 30/100\n",
            "108/107 [==============================] - 136s 1s/step - loss: 0.6734 - acc: 0.7690 - val_loss: 0.2575 - val_acc: 0.9136\n",
            "Epoch 31/100\n",
            "108/107 [==============================] - 135s 1s/step - loss: 0.6472 - acc: 0.7778 - val_loss: 0.2499 - val_acc: 0.9141\n",
            "Epoch 32/100\n",
            "108/107 [==============================] - 136s 1s/step - loss: 0.6291 - acc: 0.7844 - val_loss: 0.2275 - val_acc: 0.9191\n",
            "Epoch 33/100\n",
            "108/107 [==============================] - 137s 1s/step - loss: 0.6179 - acc: 0.7890 - val_loss: 0.2301 - val_acc: 0.9172\n",
            "Epoch 34/100\n",
            "108/107 [==============================] - 137s 1s/step - loss: 0.6196 - acc: 0.7876 - val_loss: 0.2264 - val_acc: 0.9200\n",
            "Epoch 35/100\n",
            "108/107 [==============================] - 139s 1s/step - loss: 0.5865 - acc: 0.7999 - val_loss: 0.1990 - val_acc: 0.9290\n",
            "Epoch 36/100\n",
            "108/107 [==============================] - 142s 1s/step - loss: 0.5774 - acc: 0.8050 - val_loss: 0.1810 - val_acc: 0.9405\n",
            "Epoch 37/100\n",
            "108/107 [==============================] - 142s 1s/step - loss: 0.5711 - acc: 0.8056 - val_loss: 0.1785 - val_acc: 0.9416\n",
            "Epoch 38/100\n",
            "108/107 [==============================] - 141s 1s/step - loss: 0.5581 - acc: 0.8104 - val_loss: 0.1669 - val_acc: 0.9419\n",
            "Epoch 39/100\n",
            "108/107 [==============================] - 141s 1s/step - loss: 0.5566 - acc: 0.8146 - val_loss: 0.1691 - val_acc: 0.9361\n",
            "Epoch 40/100\n",
            "108/107 [==============================] - 141s 1s/step - loss: 0.5362 - acc: 0.8185 - val_loss: 0.1339 - val_acc: 0.9569\n",
            "Epoch 41/100\n",
            "108/107 [==============================] - 141s 1s/step - loss: 0.5216 - acc: 0.8214 - val_loss: 0.1406 - val_acc: 0.9537\n",
            "Epoch 42/100\n",
            "108/107 [==============================] - 140s 1s/step - loss: 0.5340 - acc: 0.8231 - val_loss: 0.1165 - val_acc: 0.9649\n",
            "Epoch 43/100\n",
            "108/107 [==============================] - 138s 1s/step - loss: 0.5008 - acc: 0.8299 - val_loss: 0.1687 - val_acc: 0.9476\n",
            "Epoch 44/100\n",
            "108/107 [==============================] - 137s 1s/step - loss: 0.5109 - acc: 0.8269 - val_loss: 0.1356 - val_acc: 0.9547\n",
            "Epoch 45/100\n",
            "108/107 [==============================] - 138s 1s/step - loss: 0.5063 - acc: 0.8327 - val_loss: 0.1190 - val_acc: 0.9554\n",
            "Epoch 46/100\n",
            "108/107 [==============================] - 138s 1s/step - loss: 0.4898 - acc: 0.8358 - val_loss: 0.1123 - val_acc: 0.9604\n",
            "Epoch 47/100\n",
            "108/107 [==============================] - 139s 1s/step - loss: 0.4769 - acc: 0.8431 - val_loss: 0.1281 - val_acc: 0.9512\n",
            "Epoch 48/100\n",
            "108/107 [==============================] - 139s 1s/step - loss: 0.4794 - acc: 0.8432 - val_loss: 0.1130 - val_acc: 0.9629\n",
            "Epoch 49/100\n",
            "108/107 [==============================] - 139s 1s/step - loss: 0.4692 - acc: 0.8460 - val_loss: 0.1311 - val_acc: 0.9481\n",
            "Epoch 50/100\n",
            "108/107 [==============================] - 138s 1s/step - loss: 0.4667 - acc: 0.8441 - val_loss: 0.0944 - val_acc: 0.9664\n",
            "Epoch 51/100\n",
            "108/107 [==============================] - 136s 1s/step - loss: 0.4492 - acc: 0.8522 - val_loss: 0.1044 - val_acc: 0.9635\n",
            "Epoch 52/100\n",
            "108/107 [==============================] - 136s 1s/step - loss: 0.4450 - acc: 0.8526 - val_loss: 0.0924 - val_acc: 0.9671\n",
            "Epoch 53/100\n",
            "108/107 [==============================] - 138s 1s/step - loss: 0.4416 - acc: 0.8555 - val_loss: 0.0918 - val_acc: 0.9635\n",
            "Epoch 54/100\n",
            "108/107 [==============================] - 138s 1s/step - loss: 0.4234 - acc: 0.8604 - val_loss: 0.0979 - val_acc: 0.9545\n",
            "Epoch 55/100\n",
            "108/107 [==============================] - 139s 1s/step - loss: 0.4247 - acc: 0.8593 - val_loss: 0.0863 - val_acc: 0.9635\n",
            "Epoch 56/100\n",
            "108/107 [==============================] - 138s 1s/step - loss: 0.4200 - acc: 0.8653 - val_loss: 0.0920 - val_acc: 0.9685\n",
            "Epoch 57/100\n",
            "107/107 [============================>.] - ETA: 0s - loss: 0.4189 - acc: 0.8630\n",
            "Reached 98% accuracy so cancelling training!\n",
            "108/107 [==============================] - 137s 1s/step - loss: 0.4180 - acc: 0.8633 - val_loss: 0.0606 - val_acc: 0.9813\n",
            "7172/7172 [==============================] - 9s 1ms/sample - loss: 288.4225 - acc: 0.6044\n"
          ],
          "name": "stdout"
        },
        {
          "output_type": "execute_result",
          "data": {
            "text/plain": [
              "[288.42252301770884, 0.6044339]"
            ]
          },
          "metadata": {
            "tags": []
          },
          "execution_count": 36
        }
      ]
    },
    {
      "cell_type": "code",
      "metadata": {
        "id": "lVdqYZzxOOD8",
        "colab_type": "code",
        "outputId": "958623d9-591b-48e0-f900-16ea15eadfa0",
        "colab": {
          "base_uri": "https://localhost:8080/",
          "height": 545
        }
      },
      "source": [
        "import matplotlib.pyplot as plt\n",
        "acc = history.history['acc']\n",
        "val_acc = history.history['val_acc']\n",
        "loss = history.history['loss']\n",
        "val_loss = history.history['val_loss']\n",
        "\n",
        "epochs = range(len(acc))\n",
        "\n",
        "plt.plot(epochs, acc, 'r', label='Training accuracy')\n",
        "plt.plot(epochs, val_acc, 'b', label='Validation accuracy')\n",
        "plt.title('Training and validation accuracy')\n",
        "plt.legend()\n",
        "plt.figure()\n",
        "\n",
        "plt.plot(epochs, loss, 'r', label='Training Loss')\n",
        "plt.plot(epochs, val_loss, 'b', label='Validation Loss')\n",
        "plt.title('Training and validation loss')\n",
        "plt.legend()\n",
        "\n",
        "plt.show()"
      ],
      "execution_count": 0,
      "outputs": [
        {
          "output_type": "display_data",
          "data": {
            "image/png": "[encoded data removed]",
            "text/plain": [
              "<Figure size 432x288 with 1 Axes>"
            ]
          },
          "metadata": {
            "tags": []
          }
        },
        {
          "output_type": "display_data",
          "data": {
            "image/png": "[encoded data removed]",
            "text/plain": [
              "<Figure size 432x288 with 1 Axes>"
            ]
          },
          "metadata": {
            "tags": []
          }
        }
      ]
    },
    {
      "cell_type": "code",
      "metadata": {
        "id": "Gkz5B9oLRbjJ",
        "colab_type": "code",
        "colab": {}
      },
      "source": [
        "!pip install -U -q PyDrive\n",
        "from pydrive.auth import GoogleAuth\n",
        "from pydrive.drive import GoogleDrive \n",
        "from google.colab import auth \n",
        "from oauth2client.client import GoogleCredentials"
      ],
      "execution_count": 0,
      "outputs": []
    },
    {
      "cell_type": "code",
      "metadata": {
        "id": "_YjTH3DaZTAH",
        "colab_type": "code",
        "colab": {}
      },
      "source": [
        "auth.authenticate_user()\n",
        "gauth = GoogleAuth()\n",
        "gauth.credentials = GoogleCredentials.get_application_default()                       \n",
        "drive = GoogleDrive(gauth)"
      ],
      "execution_count": 0,
      "outputs": []
    },
    {
      "cell_type": "code",
      "metadata": {
        "id": "2sKhM78PZV5r",
        "colab_type": "code",
        "outputId": "85206db1-a402-4c95-f2b8-a1b0951702bb",
        "colab": {
          "base_uri": "https://localhost:8080/",
          "height": 541
        }
      },
      "source": [
        "from keras.models import load_model\n",
        "import google\n",
        "model.save('aslv1.h5')\n",
        "model_file = drive.CreateFile({'title' : 'aslv1.h5'})                       \n",
        "model_file.SetContentFile('aslv1.h5')                       \n",
        "model_file.Upload()"
      ],
      "execution_count": 0,
      "outputs": [
        {
          "output_type": "stream",
          "text": [
            "W0621 11:49:38.541004 140066052392832 hdf5_format.py:110] TensorFlow optimizers do not make it possible to access optimizer attributes or optimizer state after instantiation. As a result, we cannot save the optimizer as part of the model save file. You will have to compile your model again after loading it. Prefer using a Keras optimizer instead (see keras.io/optimizers).\n",
            "W0621 11:49:38.549157 140066052392832 __init__.py:44] file_cache is unavailable when using oauth2client >= 4.0.0 or google-auth\n",
            "Traceback (most recent call last):\n",
            "  File \"/usr/local/lib/python3.6/dist-packages/googleapiclient/discovery_cache/__init__.py\", line 36, in autodetect\n",
            "    from google.appengine.api import memcache\n",
            "ModuleNotFoundError: No module named 'google.appengine'\n",
            "\n",
            "During handling of the above exception, another exception occurred:\n",
            "\n",
            "Traceback (most recent call last):\n",
            "  File \"/usr/local/lib/python3.6/dist-packages/googleapiclient/discovery_cache/file_cache.py\", line 33, in <module>\n",
            "    from oauth2client.contrib.locked_file import LockedFile\n",
            "ModuleNotFoundError: No module named 'oauth2client.contrib.locked_file'\n",
            "\n",
            "During handling of the above exception, another exception occurred:\n",
            "\n",
            "Traceback (most recent call last):\n",
            "  File \"/usr/local/lib/python3.6/dist-packages/googleapiclient/discovery_cache/file_cache.py\", line 37, in <module>\n",
            "    from oauth2client.locked_file import LockedFile\n",
            "ModuleNotFoundError: No module named 'oauth2client.locked_file'\n",
            "\n",
            "During handling of the above exception, another exception occurred:\n",
            "\n",
            "Traceback (most recent call last):\n",
            "  File \"/usr/local/lib/python3.6/dist-packages/googleapiclient/discovery_cache/__init__.py\", line 41, in autodetect\n",
            "    from . import file_cache\n",
            "  File \"/usr/local/lib/python3.6/dist-packages/googleapiclient/discovery_cache/file_cache.py\", line 41, in <module>\n",
            "    'file_cache is unavailable when using oauth2client >= 4.0.0 or google-auth')\n",
            "ImportError: file_cache is unavailable when using oauth2client >= 4.0.0 or google-auth\n"
          ],
          "name": "stderr"
        }
      ]
    },
    {
      "cell_type": "code",
      "metadata": {
        "id": "v0A1DvYOZgj7",
        "colab_type": "code",
        "colab": {}
      },
      "source": [
        ""
      ],
      "execution_count": 0,
      "outputs": []
    }
  ]
}